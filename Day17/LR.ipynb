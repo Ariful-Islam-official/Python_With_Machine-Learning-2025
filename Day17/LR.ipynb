{
  "nbformat": 4,
  "nbformat_minor": 0,
  "metadata": {
    "colab": {
      "provenance": []
    },
    "kernelspec": {
      "name": "python3",
      "display_name": "Python 3"
    },
    "language_info": {
      "name": "python"
    }
  },
  "cells": [
    {
      "cell_type": "markdown",
      "source": [
        "# Cost function"
      ],
      "metadata": {
        "id": "SsHvvtHq4Fnw"
      }
    },
    {
      "cell_type": "code",
      "source": [
        "import numpy as np\n",
        "\n",
        "# Sigmoid function\n",
        "def sigmoid(z):\n",
        "    return 1 / (1 + np.exp(-z))\n",
        "\n",
        "# Cost function\n",
        "def cost_function(y, y_pred):\n",
        "    m = len(y)\n",
        "    cost = -(1/m) * np.sum(y * np.log(y_pred) + (1-y) * np.log(1-y_pred))\n",
        "    return cost\n",
        "\n",
        "# Example dataset\n",
        "X = np.array([0.2, 0.4, 0.6])\n",
        "y = np.array([0, 1, 1])\n",
        "\n",
        "# Random weights\n",
        "theta = 0.5\n",
        "z = X * theta\n",
        "y_pred = sigmoid(z)\n",
        "\n",
        "print(\"Predicted Probabilities:\", y_pred)\n",
        "print(\"Cost Function Value:\", cost_function(y, y_pred))"
      ],
      "metadata": {
        "colab": {
          "base_uri": "https://localhost:8080/"
        },
        "id": "T8o1aBp4yxqy",
        "outputId": "f2bc0151-6cad-4c35-9644-3c8c5c3da9e2"
      },
      "execution_count": null,
      "outputs": [
        {
          "output_type": "stream",
          "name": "stdout",
          "text": [
            "Predicted Probabilities: [0.52497919 0.549834   0.57444252]\n",
            "Cost Function Value: 0.6322969246412298\n"
          ]
        }
      ]
    },
    {
      "cell_type": "markdown",
      "source": [
        "# Gradient_Descent"
      ],
      "metadata": {
        "id": "HYp8ABYuDmBh"
      }
    },
    {
      "cell_type": "code",
      "source": [
        "\n",
        "\n",
        "import numpy as np\n",
        "import matplotlib.pyplot as plt\n",
        "\n",
        "\n",
        "X = np.array([3.4, 5.6, 2.1, 6.7, 1.5, 7.5, 3.3, 5.0, 6.3, 2.8]).reshape(-1, 1)\n",
        "y = np.array([0, 1, 0, 1, 0, 1, 0, 1, 1, 0])\n",
        "\n",
        "\n",
        "X = (X - np.mean(X)) / np.std(X)\n",
        "\n",
        "\n",
        "def sigmoid(z):\n",
        "    return 1 / (1 + np.exp(-z))\n",
        "\n",
        "\n",
        "def compute_cost(X, y, w, b):\n",
        "    m = X.shape[0]\n",
        "    z = np.dot(X, w) + b\n",
        "    cost = -np.mean(y * np.log(sigmoid(z) + 1e-8) + (1 - y) * np.log(1 - sigmoid(z) + 1e-8))\n",
        "    return cost\n",
        "\n",
        "\n",
        "def gradient_descent(X, y, lr=0.1, epochs=1000):\n",
        "    m = X.shape[0]\n",
        "    w = 0.0\n",
        "    b = 0.0\n",
        "    costs = []\n",
        "    w_history, b_history = [], []\n",
        "\n",
        "    for i in range(epochs):\n",
        "        z = np.dot(X, w) + b\n",
        "        A = sigmoid(z)\n",
        "\n",
        "\n",
        "        dw = np.sum((A - y) * X.reshape(-1)) / m\n",
        "        db = np.sum(A - y) / m\n",
        "\n",
        "\n",
        "        w -= lr * dw\n",
        "        b -= lr * db\n",
        "\n",
        "        if i % 100 == 0:\n",
        "            cost = compute_cost(X, y, w, b)\n",
        "            costs.append(cost)\n",
        "            w_history.append(w)\n",
        "            b_history.append(b)\n",
        "            print(f\"Iteration {i}: w = {w:.4f}, b = {b:.4f}, cost = {cost:.4f}\")\n",
        "\n",
        "    return w, b, costs, w_history, b_history\n",
        "\n",
        "w, b, costs, w_hist, b_hist = gradient_descent(X, y, lr=0.3, epochs=1000)\n",
        "\n",
        "print(\"\\nFinal Parameters:\")\n",
        "print(f\"Weight (w): {w:.4f}\")\n",
        "print(f\"Bias (b): {b:.4f}\")\n",
        "\n",
        "\n",
        "\n"
      ],
      "metadata": {
        "colab": {
          "base_uri": "https://localhost:8080/"
        },
        "id": "X7gJP9aUCVC6",
        "outputId": "8472e6bc-6ead-4e3b-c1af-6019f197f0ba"
      },
      "execution_count": null,
      "outputs": [
        {
          "output_type": "stream",
          "name": "stdout",
          "text": [
            "Iteration 0: w = 1.3711, b = 0.0000, cost = 0.9040\n",
            "Iteration 100: w = 138.4853, b = 0.1553, cost = 9.2103\n",
            "Iteration 200: w = 275.5994, b = 0.1553, cost = 9.2103\n",
            "Iteration 300: w = 412.7136, b = 0.1553, cost = 9.2103\n",
            "Iteration 400: w = 549.8277, b = 0.1553, cost = 9.2103\n",
            "Iteration 500: w = 686.9419, b = 0.1553, cost = 9.2103\n",
            "Iteration 600: w = 824.0560, b = 0.1553, cost = 9.2103\n",
            "Iteration 700: w = 961.1702, b = 0.1553, cost = 9.2103\n",
            "Iteration 800: w = 1098.2843, b = 0.1553, cost = 9.2103\n",
            "Iteration 900: w = 1235.3984, b = 0.1553, cost = 9.2103\n",
            "\n",
            "Final Parameters:\n",
            "Weight (w): 1371.1415\n",
            "Bias (b): 0.1553\n"
          ]
        },
        {
          "output_type": "stream",
          "name": "stderr",
          "text": [
            "/tmp/ipython-input-3913152663.py:13: RuntimeWarning: overflow encountered in exp\n",
            "  return 1 / (1 + np.exp(-z))\n"
          ]
        }
      ]
    },
    {
      "cell_type": "markdown",
      "source": [
        "# LR"
      ],
      "metadata": {
        "id": "-UphgJPG4JgQ"
      }
    },
    {
      "cell_type": "code",
      "execution_count": null,
      "metadata": {
        "id": "yuxJ-ngRsBgl"
      },
      "outputs": [],
      "source": [
        "import numpy as np\n",
        "import matplotlib.pyplot as plt\n",
        "from sklearn.model_selection import train_test_split\n",
        "from sklearn.linear_model import LogisticRegression\n",
        "from sklearn.metrics import accuracy_score, confusion_matrix, classification_report\n",
        "\n",
        "\n",
        "\n"
      ]
    },
    {
      "cell_type": "code",
      "source": [
        "X = np.array([3.4, 5.6, 2.1, 6.7, 1.5, 7.5, 3.3, 5.0, 6.3, 2.8]).reshape(-1, 1)\n",
        "y = np.array([0, 1, 0, 1, 0, 1, 0, 1, 1, 0])\n",
        "\n",
        "X"
      ],
      "metadata": {
        "colab": {
          "base_uri": "https://localhost:8080/"
        },
        "id": "sSQLoXtQ27Ny",
        "outputId": "1007da6f-d8d2-431e-a761-35adf2ed6502"
      },
      "execution_count": null,
      "outputs": [
        {
          "output_type": "execute_result",
          "data": {
            "text/plain": [
              "array([[3.4],\n",
              "       [5.6],\n",
              "       [2.1],\n",
              "       [6.7],\n",
              "       [1.5],\n",
              "       [7.5],\n",
              "       [3.3],\n",
              "       [5. ],\n",
              "       [6.3],\n",
              "       [2.8]])"
            ]
          },
          "metadata": {},
          "execution_count": 9
        }
      ]
    },
    {
      "cell_type": "code",
      "source": [
        "\n",
        "X_train, X_test, y_train, y_test = train_test_split(X, y, test_size=0.3, random_state=42)\n",
        "\n",
        "plt.scatter(X, y, c=y, cmap='coolwarm', s=80)\n",
        "plt.xlabel(\"Cell Size\")\n",
        "plt.ylabel(\"Cancer (0=No, 1=Yes)\")\n",
        "plt.title(\"Cancer vs Cell Size\")\n",
        "plt.show()\n",
        "\n",
        "\n",
        "\n",
        "\n"
      ],
      "metadata": {
        "colab": {
          "base_uri": "https://localhost:8080/",
          "height": 472
        },
        "id": "L3la0kuX27KR",
        "outputId": "ee291949-3837-4e44-92a8-8b9a7b2cf045"
      },
      "execution_count": null,
      "outputs": [
        {
          "output_type": "display_data",
          "data": {
            "text/plain": [
              "<Figure size 640x480 with 1 Axes>"
            ],
            "image/png": "[encoded data removed]"
          },
          "metadata": {}
        }
      ]
    },
    {
      "cell_type": "code",
      "source": [
        "\n",
        "log_reg = LogisticRegression()\n",
        "log_reg.fit(X_train, y_train)\n",
        "\n",
        "\n",
        "print(f\"Weight (w): {log_reg.coef_[0][0]:.4f}\")\n",
        "print(f\"Bias (b): {log_reg.intercept_[0]:.4f}\")\n"
      ],
      "metadata": {
        "colab": {
          "base_uri": "https://localhost:8080/"
        },
        "id": "znfX-SC-27H0",
        "outputId": "0e202b68-695c-493b-f61c-12f66de7b0a4"
      },
      "execution_count": null,
      "outputs": [
        {
          "output_type": "stream",
          "name": "stdout",
          "text": [
            "Weight (w): 1.1549\n",
            "Bias (b): -5.4477\n"
          ]
        }
      ]
    },
    {
      "cell_type": "code",
      "source": [
        "\n",
        "y_pred = log_reg.predict(X_test)\n",
        "y_prob = log_reg.predict_proba(X_test)[:, 1]\n",
        "\n",
        "print(\"\\nPredicted Classes:\", y_pred)\n",
        "print(\"Predicted Probabilities:\", y_prob)\n",
        "\n",
        "\n"
      ],
      "metadata": {
        "colab": {
          "base_uri": "https://localhost:8080/"
        },
        "id": "tA8w_npR27Fd",
        "outputId": "385fa962-e35d-40fd-b68a-4e739dcf509c"
      },
      "execution_count": null,
      "outputs": [
        {
          "output_type": "stream",
          "name": "stdout",
          "text": [
            "\n",
            "Predicted Classes: [1 1 1]\n",
            "Predicted Probabilities: [0.86153621 0.73491202 0.96135661]\n"
          ]
        }
      ]
    },
    {
      "cell_type": "code",
      "source": [
        "\n",
        "print(\"\\nAccuracy:\", accuracy_score(y_test, y_pred))\n",
        "print(\"Confusion Matrix:\\n\", confusion_matrix(y_test, y_pred))\n",
        "print(\"\\nClassification Report:\\n\", classification_report(y_test, y_pred))\n"
      ],
      "metadata": {
        "colab": {
          "base_uri": "https://localhost:8080/"
        },
        "id": "xD0pl6bT33PR",
        "outputId": "8d5aa032-2a90-4264-e833-fe1e88237a01"
      },
      "execution_count": null,
      "outputs": [
        {
          "output_type": "stream",
          "name": "stdout",
          "text": [
            "\n",
            "Accuracy: 1.0\n",
            "Confusion Matrix:\n",
            " [[3]]\n",
            "\n",
            "Classification Report:\n",
            "               precision    recall  f1-score   support\n",
            "\n",
            "           1       1.00      1.00      1.00         3\n",
            "\n",
            "    accuracy                           1.00         3\n",
            "   macro avg       1.00      1.00      1.00         3\n",
            "weighted avg       1.00      1.00      1.00         3\n",
            "\n"
          ]
        },
        {
          "output_type": "stream",
          "name": "stderr",
          "text": [
            "/usr/local/lib/python3.12/dist-packages/sklearn/metrics/_classification.py:407: UserWarning: A single label was found in 'y_true' and 'y_pred'. For the confusion matrix to have the correct shape, use the 'labels' parameter to pass all known labels.\n",
            "  warnings.warn(\n"
          ]
        }
      ]
    },
    {
      "cell_type": "code",
      "source": [
        "\n",
        "x_values = np.linspace(min(X)-1, max(X)+1, 100).reshape(-1, 1)\n",
        "y_values = log_reg.predict_proba(x_values)[:, 1]\n",
        "\n",
        "plt.plot(x_values, y_values, color='red', label=\"Logistic Curve\")\n",
        "plt.scatter(X, y, c=y, cmap='coolwarm', s=80, edgecolor='k')\n",
        "plt.xlabel(\"Cell Size\")\n",
        "plt.ylabel(\"Probability of Cancer\")\n",
        "plt.title(\"Logistic Regression Curve\")\n",
        "plt.legend()\n",
        "plt.show()"
      ],
      "metadata": {
        "colab": {
          "base_uri": "https://localhost:8080/",
          "height": 472
        },
        "id": "8JG_W08V33L3",
        "outputId": "5ee4f6ce-b49f-4f51-fdbc-6d2b53373605"
      },
      "execution_count": null,
      "outputs": [
        {
          "output_type": "display_data",
          "data": {
            "text/plain": [
              "<Figure size 640x480 with 1 Axes>"
            ],
            "image/png": "[encoded data removed]"
          },
          "metadata": {}
        }
      ]
    }
  ]
}