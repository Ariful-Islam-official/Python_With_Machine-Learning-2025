{
  "nbformat": 4,
  "nbformat_minor": 0,
  "metadata": {
    "colab": {
      "provenance": []
    },
    "kernelspec": {
      "name": "python3",
      "display_name": "Python 3"
    },
    "language_info": {
      "name": "python"
    }
  },
  "cells": [
    {
      "cell_type": "markdown",
      "source": [
        "Y = mX+c\n",
        "\n",
        "w = w - L*bw\n",
        "\n",
        "c = c - L*bc"
      ],
      "metadata": {
        "id": "k6qM4Y68PQj5"
      }
    },
    {
      "cell_type": "code",
      "execution_count": null,
      "metadata": {
        "id": "NTcP_S0CF15S"
      },
      "outputs": [],
      "source": [
        "import numpy as np\n",
        "import pandas as pd\n",
        "import matplotlib.pyplot as plt\n",
        "from sklearn.model_selection import train_test_split"
      ]
    },
    {
      "cell_type": "code",
      "source": [
        "class LinearRegression():\n",
        "  def __init__(self,learningRate, numberOfIterations):\n",
        "    self.learningRate = learningRate\n",
        "    self.numberOfIterations = numberOfIterations\n",
        "  def fit(self, x , y):\n",
        "    self.n,self.p =  x.shape\n",
        "    self.w = np.zeros(self.p)\n",
        "    self.b = 0\n",
        "    self.x = x\n",
        "    self.y = y\n",
        "\n",
        "    for i in range(self.numberOfIterations):\n",
        "      self.update()\n",
        "\n",
        "  def update(self):\n",
        "    y_pred = self.predict(self.x)\n",
        "    dw  = - (2* (self.x.T).dot(self.y - y_pred)) / self.n\n",
        "    db = - 2 * np.sum(self.y - y_pred) / self.n\n",
        "    #updating\n",
        "    self.w = self.w - self.learningRate * dw\n",
        "    self.b = self.b - self.learningRate * db\n",
        "  def predict(self,x):\n",
        "    return x.dot(self.w) + self.b # y= mx+c"
      ],
      "metadata": {
        "id": "rrkB_IbcPHpr"
      },
      "execution_count": null,
      "outputs": []
    },
    {
      "cell_type": "code",
      "source": [
        "salary_data = pd.read_csv(\"/content/drive/MyDrive/DataSet/salary_data.csv\")"
      ],
      "metadata": {
        "id": "tfeRpGbCTcjI"
      },
      "execution_count": null,
      "outputs": []
    },
    {
      "cell_type": "code",
      "source": [
        "salary_data.isnull().sum()"
      ],
      "metadata": {
        "id": "_iNeT9rgXHKR"
      },
      "execution_count": null,
      "outputs": []
    },
    {
      "cell_type": "code",
      "source": [
        "x = salary_data.iloc[:,:-1].values\n",
        "y = salary_data.iloc[:,1].values"
      ],
      "metadata": {
        "id": "VdOsDIojXMZ4"
      },
      "execution_count": null,
      "outputs": []
    },
    {
      "cell_type": "code",
      "source": [
        "x_train, x_test, y_train, y_test = train_test_split(x, y, test_size=0.33, random_state=2)"
      ],
      "metadata": {
        "id": "sSRBLmRPXZqB"
      },
      "execution_count": null,
      "outputs": []
    },
    {
      "cell_type": "code",
      "source": [
        "model = LinearRegression(learningRate =0.02 , numberOfIterations = 2000)"
      ],
      "metadata": {
        "id": "tIYyIIoQXau4"
      },
      "execution_count": null,
      "outputs": []
    },
    {
      "cell_type": "code",
      "source": [
        "model.fit(x_train,y_train)"
      ],
      "metadata": {
        "id": "bvkO-UuLYd3d"
      },
      "execution_count": null,
      "outputs": []
    },
    {
      "cell_type": "code",
      "source": [
        "print(\"w = \" , model.w[0])\n",
        "print(\"b = \", model.b)"
      ],
      "metadata": {
        "id": "uRyzsUmZZBjp"
      },
      "execution_count": null,
      "outputs": []
    },
    {
      "cell_type": "code",
      "source": [
        "tets"
      ],
      "metadata": {
        "id": "H_nADGkRa6GA"
      },
      "execution_count": null,
      "outputs": []
    }
  ]
}